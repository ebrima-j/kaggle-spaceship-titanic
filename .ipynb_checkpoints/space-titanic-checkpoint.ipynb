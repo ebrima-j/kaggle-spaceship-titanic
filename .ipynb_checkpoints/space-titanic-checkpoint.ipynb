{
 "cells": [
  {
   "cell_type": "markdown",
   "id": "d7d82b81-9f7c-4f72-8515-9e69ee722a4a",
   "metadata": {},
   "source": [
    "# Kaggle Spaceshic Titanic\n",
    "Link: https://www.kaggle.com/competitions/spaceship-titanic/data?select=train.csv"
   ]
  },
  {
   "cell_type": "markdown",
   "id": "ff51ecca-53ed-4675-8953-c8555fb2dd6f",
   "metadata": {},
   "source": [
    "## Importing libraries"
   ]
  },
  {
   "cell_type": "code",
   "execution_count": 12,
   "id": "63e1e975-f524-4bd8-ae4c-05cfee17914c",
   "metadata": {},
   "outputs": [],
   "source": [
    "import pandas as pd\n",
    "import seaborn as sns\n",
    "import matplotlib.pyplot as plt"
   ]
  },
  {
   "cell_type": "markdown",
   "id": "e6c65da4-9ce4-49c8-bc7b-6f73e9282a42",
   "metadata": {},
   "source": [
    "## Load dataset"
   ]
  },
  {
   "cell_type": "code",
   "execution_count": null,
   "id": "eca9699b-7d22-4fd3-888e-340035bb3d27",
   "metadata": {},
   "outputs": [],
   "source": [
    "train = pd.read_csv('train.csv')\n",
    "test = pd.read_csv('test.csv')\n",
    "\n",
    "print(train.info())\n",
    "print()\n",
    "print(train.isna().sum())"
   ]
  },
  {
   "cell_type": "code",
   "execution_count": null,
   "id": "657534e4-aea9-49f9-bf0b-391a037fbf2a",
   "metadata": {},
   "outputs": [],
   "source": [
    "sns.barplot(train['Transported'])\n",
    "plt.show()"
   ]
  },
  {
   "cell_type": "code",
   "execution_count": null,
   "id": "5e869a3e-3050-4860-94f8-d53c60026112",
   "metadata": {},
   "outputs": [],
   "source": []
  }
 ],
 "metadata": {
  "kernelspec": {
   "display_name": "Python 3 (ipykernel)",
   "language": "python",
   "name": "python3"
  },
  "language_info": {
   "codemirror_mode": {
    "name": "ipython",
    "version": 3
   },
   "file_extension": ".py",
   "mimetype": "text/x-python",
   "name": "python",
   "nbconvert_exporter": "python",
   "pygments_lexer": "ipython3",
   "version": "3.12.5"
  }
 },
 "nbformat": 4,
 "nbformat_minor": 5
}
